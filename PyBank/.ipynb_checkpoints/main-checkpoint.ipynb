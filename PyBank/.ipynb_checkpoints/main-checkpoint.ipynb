{
 "cells": [
  {
   "cell_type": "code",
   "execution_count": 26,
   "metadata": {},
   "outputs": [
    {
     "name": "stdout",
     "output_type": "stream",
     "text": [
      "\n",
      "Financial Analysis\n",
      "------------------\n",
      "Total Months: 86\n",
      "Total: $38382578\n",
      "Average Change: $446309.05\n",
      "Greatest Increase in Profits: Feb-2012 ($1170593)\n",
      "Greatest Decrease in Profits: Sep-2013 ($-1196225)\n"
     ]
    }
   ],
   "source": [
    "# make sure to add documentation and comments to get full credit\n",
    "\n",
    "#from a budget data set in a csv file, this code will perform helpful calculations\n",
    "\n",
    "#imports pathlib and csv library\n",
    "from pathlib import Path\n",
    "import csv\n",
    "\n",
    "#sets the file path\n",
    "filepath = Path('Resources/budget_data.csv')\n",
    "\n",
    "#imports decimal library to round float data for later use\n",
    "from decimal import Decimal\n",
    "\n",
    "\n",
    "with open(filepath, \"r\") as csvfile:\n",
    "    csvreader = csv.reader(csvfile)\n",
    "    \n",
    "    \n",
    "    #assigns variables for later use\n",
    "    total_months = 0\n",
    "    net_total = 0\n",
    "    avg_change = 0\n",
    "    greatest_increase = 0\n",
    "    greatest_decrease = 0\n",
    "    \n",
    "    #skips the header row in csv file\n",
    "    next(csvreader)\n",
    "    \n",
    "    #loops through csvreader assigning variable row as iterator\n",
    "    for row in csvreader:\n",
    "        \n",
    "        #counts the months by adding 1 to each iteration\n",
    "        total_months += 1\n",
    "        \n",
    "        #assigns date variable to the first object in row\n",
    "        date = row[0]\n",
    "        #assigns variable change to second value in row and converts to integer\n",
    "        change = int(row[1])\n",
    "        \n",
    "        \n",
    "        #adds change to net_total\n",
    "        net_total += change\n",
    "        \n",
    "        #\n",
    "        if change > greatest_increase:\n",
    "            greatest_increase = change\n",
    "            date_greatest_increase = date\n",
    "        #determines if change less than current greatest decrease\n",
    "        elif change < greatest_decrease:\n",
    "            #sets greatest decrease to change\n",
    "            greatest_decrease = change\n",
    "            #sets date of the greatest decrease\n",
    "            date_greatest_decrease = date\n",
    "    \n",
    "    #calculates average change and rounds to 2 decimals the standard human way\n",
    "    avg_change = round(Decimal(net_total/total_months), 2)\n",
    "    \n",
    "    \n",
    "    #prints the financial analysis\n",
    "    print(\"\\nFinancial Analysis\\n------------------\")\n",
    "    print(f\"Total Months: {total_months}\")\n",
    "    print(f\"Total: ${net_total}\")\n",
    "    print(f\"Average Change: ${avg_change}\")\n",
    "    print(f\"Greatest Increase in Profits: {date_greatest_increase} (${greatest_increase})\")\n",
    "    print(f\"Greatest Decrease in Profits: {date_greatest_decrease} (${greatest_decrease})\")"
   ]
  },
  {
   "cell_type": "code",
   "execution_count": null,
   "metadata": {},
   "outputs": [],
   "source": []
  }
 ],
 "metadata": {
  "kernelspec": {
   "display_name": "Python 3",
   "language": "python",
   "name": "python3"
  },
  "language_info": {
   "codemirror_mode": {
    "name": "ipython",
    "version": 3
   },
   "file_extension": ".py",
   "mimetype": "text/x-python",
   "name": "python",
   "nbconvert_exporter": "python",
   "pygments_lexer": "ipython3",
   "version": "3.8.5"
  }
 },
 "nbformat": 4,
 "nbformat_minor": 4
}
